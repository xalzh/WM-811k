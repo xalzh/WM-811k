{
 "cells": [
  {
   "cell_type": "code",
   "execution_count": 1,
   "metadata": {
    "collapsed": true,
    "ExecuteTime": {
     "start_time": "2023-06-21T14:33:14.354801Z",
     "end_time": "2023-06-21T14:33:17.396892Z"
    }
   },
   "outputs": [],
   "source": [
    "import pickle\n",
    "import torch\n",
    "from torch.utils.data import Dataset, DataLoader\n",
    "import torch.optim as optim\n",
    "from tqdm import tqdm\n",
    "import time"
   ]
  },
  {
   "cell_type": "code",
   "execution_count": 2,
   "outputs": [],
   "source": [
    "# Load the oversampled_train_data and preprocessed_test_data from pickle files\n",
    "with open('dataset/preprocessed_train_data.pkl', 'rb') as f:\n",
    "    loaded_oversampled_train_data = pickle.load(f)\n",
    "\n",
    "with open('dataset/preprocessed_test_data.pkl', 'rb') as f:\n",
    "    loaded_preprocessed_test_data = pickle.load(f)"
   ],
   "metadata": {
    "collapsed": false,
    "ExecuteTime": {
     "start_time": "2023-06-21T14:33:17.388893Z",
     "end_time": "2023-06-21T14:33:18.088892Z"
    }
   }
  },
  {
   "cell_type": "code",
   "execution_count": 3,
   "outputs": [],
   "source": [
    "class WaferMapDataset(Dataset):\n",
    "    def __init__(self, data_dict):\n",
    "        self.data_dict = data_dict\n",
    "        self.samples = []\n",
    "        self.labels = []\n",
    "        self.label_map = {'Center': 0, 'Donut': 1, 'Edge-Loc': 2, 'Edge-Ring': 3, 'Loc': 4,\n",
    "                          'Random': 5, 'Scratch': 6, 'Near-full': 7, 'none': 8}\n",
    "\n",
    "        for label, images in self.data_dict.items():\n",
    "            for image in images:\n",
    "                self.samples.append(image)\n",
    "                self.labels.append(label)\n",
    "\n",
    "    def __len__(self):\n",
    "        return len(self.samples)\n",
    "\n",
    "    def __getitem__(self, idx):\n",
    "        # Convert the image to a PyTorch tensor and add a channel dimension\n",
    "        image_tensor = torch.tensor(self.samples[idx], dtype=torch.float32).unsqueeze(0)\n",
    "        label = self.label_map[self.labels[idx]]\n",
    "        label_tensor  = torch.tensor(label, dtype=torch.long).squeeze()\n",
    "        return image_tensor, label_tensor\n"
   ],
   "metadata": {
    "collapsed": false,
    "ExecuteTime": {
     "start_time": "2023-06-21T14:33:18.088892Z",
     "end_time": "2023-06-21T14:33:18.104892Z"
    }
   }
  },
  {
   "cell_type": "code",
   "execution_count": 4,
   "outputs": [
    {
     "name": "stdout",
     "output_type": "stream",
     "text": [
      "dict_keys(['Center', 'Donut', 'Edge-Loc', 'Edge-Ring', 'Loc', 'Random', 'Scratch', 'Near-full', 'none'])\n"
     ]
    }
   ],
   "source": [
    "# Create the custom datasets\n",
    "train_dataset = WaferMapDataset(loaded_oversampled_train_data)\n",
    "test_dataset = WaferMapDataset(loaded_preprocessed_test_data)\n",
    "\n",
    "print(loaded_preprocessed_test_data.keys())\n",
    "# Create the DataLoader instances\n",
    "train_dataloader = DataLoader(train_dataset, batch_size=256, shuffle=True)\n",
    "test_dataloader = DataLoader(test_dataset, batch_size=256, shuffle=False)"
   ],
   "metadata": {
    "collapsed": false,
    "ExecuteTime": {
     "start_time": "2023-06-21T14:33:18.105893Z",
     "end_time": "2023-06-21T14:33:18.151892Z"
    }
   }
  },
  {
   "cell_type": "code",
   "execution_count": 5,
   "outputs": [],
   "source": [
    "def train(model, dataloader, optimizer, device):\n",
    "    model.train()\n",
    "    running_loss = 0.0\n",
    "    correct = 0\n",
    "    total = 0\n",
    "    for inputs, labels in tqdm(dataloader, desc=\"Training\"):\n",
    "        inputs, labels = inputs.to(device), labels.to(device)\n",
    "        optimizer.zero_grad()\n",
    "        outputs = model(inputs)\n",
    "        loss = model.compute_loss(outputs, labels)\n",
    "        loss.backward()\n",
    "        optimizer.step()\n",
    "        running_loss += loss.item()\n",
    "        _, predicted = torch.max(outputs, 1)\n",
    "        correct += (predicted == labels).sum().item()\n",
    "        total += labels.size(0)\n",
    "    epoch_loss = running_loss / total\n",
    "    accuracy = correct / total\n",
    "    return epoch_loss, accuracy"
   ],
   "metadata": {
    "collapsed": false,
    "ExecuteTime": {
     "start_time": "2023-06-21T14:33:18.123892Z",
     "end_time": "2023-06-21T14:33:18.168894Z"
    }
   }
  },
  {
   "cell_type": "code",
   "execution_count": 6,
   "outputs": [],
   "source": [
    "def evaluate(model, dataloader, device):\n",
    "    model.eval()\n",
    "    running_loss = 0.0\n",
    "    correct = 0\n",
    "    total = 0\n",
    "    with torch.no_grad():\n",
    "        for inputs, labels in tqdm(dataloader, desc=\"Evaluating\"):\n",
    "            inputs, labels = inputs.to(device), labels.to(device)\n",
    "            outputs = model(inputs)\n",
    "            loss = model.compute_loss(outputs, labels)\n",
    "            running_loss += loss.item()\n",
    "            _, predicted = torch.max(outputs, 1)\n",
    "            correct += (predicted == labels).sum().item()\n",
    "            total += labels.size(0)\n",
    "    epoch_loss = running_loss / total\n",
    "    accuracy = correct / total\n",
    "    return epoch_loss, accuracy"
   ],
   "metadata": {
    "collapsed": false,
    "ExecuteTime": {
     "start_time": "2023-06-21T14:33:18.138893Z",
     "end_time": "2023-06-21T14:33:18.168894Z"
    }
   }
  },
  {
   "cell_type": "code",
   "execution_count": 7,
   "outputs": [],
   "source": [
    "#Import Models\n",
    "from models.CNN import cnn\n",
    "from models.ResNet18 import CustomResNet18\n",
    "from models.ResNet152 import CustomResNet152\n",
    "from models.ResNet101 import CustomResNet101\n",
    "from models.ResNet50 import CustomResNet50\n",
    "from models.DCNN import OptResDCNN\n",
    "from models.DenseNet121 import CustomDenseNet121\n",
    "from models.MobileNet import CustomMobileNet"
   ],
   "metadata": {
    "collapsed": false,
    "ExecuteTime": {
     "start_time": "2023-06-21T14:33:18.154893Z",
     "end_time": "2023-06-21T14:33:18.406404Z"
    }
   }
  },
  {
   "cell_type": "code",
   "execution_count": 10,
   "outputs": [
    {
     "name": "stderr",
     "output_type": "stream",
     "text": [
      "C:\\Users\\xalzh\\AppData\\Local\\Programs\\Python\\Python39\\lib\\site-packages\\torchvision\\models\\_utils.py:223: UserWarning: Arguments other than a weight enum or `None` for 'weights' are deprecated since 0.13 and may be removed in the future. The current behavior is equivalent to passing `weights=ResNet18_Weights.IMAGENET1K_V1`. You can also use `weights=ResNet18_Weights.DEFAULT` to get the most up-to-date weights.\n",
      "  warnings.warn(msg)\n",
      "C:\\Users\\xalzh\\AppData\\Local\\Programs\\Python\\Python39\\lib\\site-packages\\torchvision\\models\\_utils.py:223: UserWarning: Arguments other than a weight enum or `None` for 'weights' are deprecated since 0.13 and may be removed in the future. The current behavior is equivalent to passing `weights=ResNet50_Weights.IMAGENET1K_V1`. You can also use `weights=ResNet50_Weights.DEFAULT` to get the most up-to-date weights.\n",
      "  warnings.warn(msg)\n",
      "C:\\Users\\xalzh\\AppData\\Local\\Programs\\Python\\Python39\\lib\\site-packages\\torchvision\\models\\_utils.py:223: UserWarning: Arguments other than a weight enum or `None` for 'weights' are deprecated since 0.13 and may be removed in the future. The current behavior is equivalent to passing `weights=ResNet152_Weights.IMAGENET1K_V1`. You can also use `weights=ResNet152_Weights.DEFAULT` to get the most up-to-date weights.\n",
      "  warnings.warn(msg)\n",
      "C:\\Users\\xalzh\\AppData\\Local\\Programs\\Python\\Python39\\lib\\site-packages\\torchvision\\models\\_utils.py:223: UserWarning: Arguments other than a weight enum or `None` for 'weights' are deprecated since 0.13 and may be removed in the future. The current behavior is equivalent to passing `weights=ResNet101_Weights.IMAGENET1K_V1`. You can also use `weights=ResNet101_Weights.DEFAULT` to get the most up-to-date weights.\n",
      "  warnings.warn(msg)\n",
      "C:\\Users\\xalzh\\AppData\\Local\\Programs\\Python\\Python39\\lib\\site-packages\\torchvision\\models\\_utils.py:223: UserWarning: Arguments other than a weight enum or `None` for 'weights' are deprecated since 0.13 and may be removed in the future. The current behavior is equivalent to passing `weights=DenseNet121_Weights.IMAGENET1K_V1`. You can also use `weights=DenseNet121_Weights.DEFAULT` to get the most up-to-date weights.\n",
      "  warnings.warn(msg)\n"
     ]
    },
    {
     "name": "stdout",
     "output_type": "stream",
     "text": [
      "CustomMobileNet\n"
     ]
    },
    {
     "name": "stderr",
     "output_type": "stream",
     "text": [
      "Training: 100%|██████████| 411/411 [00:11<00:00, 37.35it/s]\n",
      "Evaluating: 100%|██████████| 24/24 [00:00<00:00, 122.19it/s]\n"
     ]
    },
    {
     "name": "stdout",
     "output_type": "stream",
     "text": [
      "Epoch 1/50\n",
      "Train Loss: 0.0009, Train Accuracy: 0.9185\n",
      "Test Loss: 0.0060, Test Accuracy: 0.5378\n"
     ]
    },
    {
     "name": "stderr",
     "output_type": "stream",
     "text": [
      "Training: 100%|██████████| 411/411 [00:09<00:00, 43.59it/s]\n",
      "Evaluating: 100%|██████████| 24/24 [00:00<00:00, 160.00it/s]\n"
     ]
    },
    {
     "name": "stdout",
     "output_type": "stream",
     "text": [
      "Epoch 2/50\n",
      "Train Loss: 0.0004, Train Accuracy: 0.9650\n",
      "Test Loss: 0.0075, Test Accuracy: 0.5433\n"
     ]
    },
    {
     "name": "stderr",
     "output_type": "stream",
     "text": [
      "Training: 100%|██████████| 411/411 [00:10<00:00, 39.01it/s]\n",
      "Evaluating: 100%|██████████| 24/24 [00:00<00:00, 166.62it/s]\n"
     ]
    },
    {
     "name": "stdout",
     "output_type": "stream",
     "text": [
      "Epoch 3/50\n",
      "Train Loss: 0.0003, Train Accuracy: 0.9718\n",
      "Test Loss: 0.0073, Test Accuracy: 0.5423\n"
     ]
    },
    {
     "name": "stderr",
     "output_type": "stream",
     "text": [
      "Training: 100%|██████████| 411/411 [00:10<00:00, 40.01it/s]\n",
      "Evaluating: 100%|██████████| 24/24 [00:00<00:00, 170.21it/s]\n"
     ]
    },
    {
     "name": "stdout",
     "output_type": "stream",
     "text": [
      "Epoch 4/50\n",
      "Train Loss: 0.0003, Train Accuracy: 0.9778\n",
      "Test Loss: 0.0075, Test Accuracy: 0.5652\n"
     ]
    },
    {
     "name": "stderr",
     "output_type": "stream",
     "text": [
      "Training: 100%|██████████| 411/411 [00:09<00:00, 43.56it/s]\n",
      "Evaluating: 100%|██████████| 24/24 [00:00<00:00, 148.11it/s]\n"
     ]
    },
    {
     "name": "stdout",
     "output_type": "stream",
     "text": [
      "Epoch 5/50\n",
      "Train Loss: 0.0003, Train Accuracy: 0.9793\n",
      "Test Loss: 0.0067, Test Accuracy: 0.5803\n"
     ]
    },
    {
     "name": "stderr",
     "output_type": "stream",
     "text": [
      "Training: 100%|██████████| 411/411 [00:09<00:00, 42.28it/s]\n",
      "Evaluating: 100%|██████████| 24/24 [00:00<00:00, 161.07it/s]\n"
     ]
    },
    {
     "name": "stdout",
     "output_type": "stream",
     "text": [
      "Epoch 6/50\n",
      "Train Loss: 0.0002, Train Accuracy: 0.9821\n",
      "Test Loss: 0.0050, Test Accuracy: 0.6435\n"
     ]
    },
    {
     "name": "stderr",
     "output_type": "stream",
     "text": [
      "Training: 100%|██████████| 411/411 [00:09<00:00, 41.56it/s]\n",
      "Evaluating: 100%|██████████| 24/24 [00:00<00:00, 139.50it/s]\n"
     ]
    },
    {
     "name": "stdout",
     "output_type": "stream",
     "text": [
      "Epoch 7/50\n",
      "Train Loss: 0.0002, Train Accuracy: 0.9831\n",
      "Test Loss: 0.0066, Test Accuracy: 0.5970\n"
     ]
    },
    {
     "name": "stderr",
     "output_type": "stream",
     "text": [
      "Training: 100%|██████████| 411/411 [00:10<00:00, 38.96it/s]\n",
      "Evaluating: 100%|██████████| 24/24 [00:00<00:00, 155.87it/s]\n"
     ]
    },
    {
     "name": "stdout",
     "output_type": "stream",
     "text": [
      "Epoch 8/50\n",
      "Train Loss: 0.0002, Train Accuracy: 0.9853\n",
      "Test Loss: 0.0060, Test Accuracy: 0.6361\n"
     ]
    },
    {
     "name": "stderr",
     "output_type": "stream",
     "text": [
      "Training: 100%|██████████| 411/411 [00:10<00:00, 37.51it/s]\n",
      "Evaluating: 100%|██████████| 24/24 [00:00<00:00, 157.90it/s]\n"
     ]
    },
    {
     "name": "stdout",
     "output_type": "stream",
     "text": [
      "Epoch 9/50\n",
      "Train Loss: 0.0002, Train Accuracy: 0.9842\n",
      "Test Loss: 0.0059, Test Accuracy: 0.6354\n"
     ]
    },
    {
     "name": "stderr",
     "output_type": "stream",
     "text": [
      "Training: 100%|██████████| 411/411 [00:10<00:00, 37.88it/s]\n",
      "Evaluating: 100%|██████████| 24/24 [00:00<00:00, 145.46it/s]\n"
     ]
    },
    {
     "name": "stdout",
     "output_type": "stream",
     "text": [
      "Epoch 10/50\n",
      "Train Loss: 0.0002, Train Accuracy: 0.9865\n",
      "Test Loss: 0.0063, Test Accuracy: 0.6316\n"
     ]
    },
    {
     "name": "stderr",
     "output_type": "stream",
     "text": [
      "Training: 100%|██████████| 411/411 [00:11<00:00, 36.73it/s]\n",
      "Evaluating: 100%|██████████| 24/24 [00:00<00:00, 166.66it/s]\n"
     ]
    },
    {
     "name": "stdout",
     "output_type": "stream",
     "text": [
      "Epoch 11/50\n",
      "Train Loss: 0.0002, Train Accuracy: 0.9864\n",
      "Test Loss: 0.0080, Test Accuracy: 0.5741\n"
     ]
    },
    {
     "name": "stderr",
     "output_type": "stream",
     "text": [
      "Training: 100%|██████████| 411/411 [00:10<00:00, 38.79it/s]\n",
      "Evaluating: 100%|██████████| 24/24 [00:00<00:00, 154.10it/s]\n"
     ]
    },
    {
     "name": "stdout",
     "output_type": "stream",
     "text": [
      "Epoch 12/50\n",
      "Train Loss: 0.0002, Train Accuracy: 0.9867\n",
      "Test Loss: 0.0056, Test Accuracy: 0.6386\n"
     ]
    },
    {
     "name": "stderr",
     "output_type": "stream",
     "text": [
      "Training: 100%|██████████| 411/411 [00:08<00:00, 45.85it/s]\n",
      "Evaluating: 100%|██████████| 24/24 [00:00<00:00, 161.07it/s]\n"
     ]
    },
    {
     "name": "stdout",
     "output_type": "stream",
     "text": [
      "Epoch 13/50\n",
      "Train Loss: 0.0002, Train Accuracy: 0.9869\n",
      "Test Loss: 0.0066, Test Accuracy: 0.6150\n"
     ]
    },
    {
     "name": "stderr",
     "output_type": "stream",
     "text": [
      "Training: 100%|██████████| 411/411 [00:08<00:00, 48.07it/s]\n",
      "Evaluating: 100%|██████████| 24/24 [00:00<00:00, 153.80it/s]\n"
     ]
    },
    {
     "name": "stdout",
     "output_type": "stream",
     "text": [
      "Epoch 14/50\n",
      "Train Loss: 0.0002, Train Accuracy: 0.9879\n",
      "Test Loss: 0.0060, Test Accuracy: 0.6409\n"
     ]
    },
    {
     "name": "stderr",
     "output_type": "stream",
     "text": [
      "Training: 100%|██████████| 411/411 [00:08<00:00, 47.43it/s]\n",
      "Evaluating: 100%|██████████| 24/24 [00:00<00:00, 158.90it/s]\n"
     ]
    },
    {
     "name": "stdout",
     "output_type": "stream",
     "text": [
      "Epoch 15/50\n",
      "Train Loss: 0.0002, Train Accuracy: 0.9880\n",
      "Test Loss: 0.0087, Test Accuracy: 0.5547\n"
     ]
    },
    {
     "name": "stderr",
     "output_type": "stream",
     "text": [
      "Training: 100%|██████████| 411/411 [00:10<00:00, 39.21it/s]\n",
      "Evaluating: 100%|██████████| 24/24 [00:00<00:00, 156.90it/s]\n"
     ]
    },
    {
     "name": "stdout",
     "output_type": "stream",
     "text": [
      "Epoch 16/50\n",
      "Train Loss: 0.0002, Train Accuracy: 0.9878\n",
      "Test Loss: 0.0054, Test Accuracy: 0.6565\n"
     ]
    },
    {
     "name": "stderr",
     "output_type": "stream",
     "text": [
      "Training: 100%|██████████| 411/411 [00:09<00:00, 45.09it/s]\n",
      "Evaluating: 100%|██████████| 24/24 [00:00<00:00, 141.18it/s]\n"
     ]
    },
    {
     "name": "stdout",
     "output_type": "stream",
     "text": [
      "Epoch 17/50\n",
      "Train Loss: 0.0002, Train Accuracy: 0.9885\n",
      "Test Loss: 0.0062, Test Accuracy: 0.6229\n"
     ]
    },
    {
     "name": "stderr",
     "output_type": "stream",
     "text": [
      "Training: 100%|██████████| 411/411 [00:11<00:00, 36.76it/s]\n",
      "Evaluating: 100%|██████████| 24/24 [00:00<00:00, 139.54it/s]\n"
     ]
    },
    {
     "name": "stdout",
     "output_type": "stream",
     "text": [
      "Epoch 18/50\n",
      "Train Loss: 0.0002, Train Accuracy: 0.9884\n",
      "Test Loss: 0.0108, Test Accuracy: 0.5228\n"
     ]
    },
    {
     "name": "stderr",
     "output_type": "stream",
     "text": [
      "Training: 100%|██████████| 411/411 [00:08<00:00, 45.67it/s]\n",
      "Evaluating: 100%|██████████| 24/24 [00:00<00:00, 156.87it/s]\n"
     ]
    },
    {
     "name": "stdout",
     "output_type": "stream",
     "text": [
      "Epoch 19/50\n",
      "Train Loss: 0.0002, Train Accuracy: 0.9884\n",
      "Test Loss: 0.0060, Test Accuracy: 0.6477\n"
     ]
    },
    {
     "name": "stderr",
     "output_type": "stream",
     "text": [
      "Training: 100%|██████████| 411/411 [00:08<00:00, 47.06it/s]\n",
      "Evaluating: 100%|██████████| 24/24 [00:00<00:00, 119.40it/s]\n"
     ]
    },
    {
     "name": "stdout",
     "output_type": "stream",
     "text": [
      "Epoch 20/50\n",
      "Train Loss: 0.0002, Train Accuracy: 0.9890\n",
      "Test Loss: 0.0076, Test Accuracy: 0.6029\n"
     ]
    },
    {
     "name": "stderr",
     "output_type": "stream",
     "text": [
      "Training: 100%|██████████| 411/411 [00:08<00:00, 47.54it/s]\n",
      "Evaluating: 100%|██████████| 24/24 [00:00<00:00, 157.38it/s]\n"
     ]
    },
    {
     "name": "stdout",
     "output_type": "stream",
     "text": [
      "Epoch 21/50\n",
      "Train Loss: 0.0002, Train Accuracy: 0.9883\n",
      "Test Loss: 0.0079, Test Accuracy: 0.5911\n"
     ]
    },
    {
     "name": "stderr",
     "output_type": "stream",
     "text": [
      "Training: 100%|██████████| 411/411 [00:10<00:00, 41.09it/s]\n",
      "Evaluating: 100%|██████████| 24/24 [00:00<00:00, 147.24it/s]\n"
     ]
    },
    {
     "name": "stdout",
     "output_type": "stream",
     "text": [
      "Epoch 22/50\n",
      "Train Loss: 0.0001, Train Accuracy: 0.9892\n",
      "Test Loss: 0.0067, Test Accuracy: 0.6203\n"
     ]
    },
    {
     "name": "stderr",
     "output_type": "stream",
     "text": [
      "Training: 100%|██████████| 411/411 [00:10<00:00, 40.73it/s]\n",
      "Evaluating: 100%|██████████| 24/24 [00:00<00:00, 139.53it/s]\n"
     ]
    },
    {
     "name": "stdout",
     "output_type": "stream",
     "text": [
      "Epoch 23/50\n",
      "Train Loss: 0.0001, Train Accuracy: 0.9897\n",
      "Test Loss: 0.0082, Test Accuracy: 0.5838\n"
     ]
    },
    {
     "name": "stderr",
     "output_type": "stream",
     "text": [
      "Training: 100%|██████████| 411/411 [00:11<00:00, 35.71it/s]\n",
      "Evaluating: 100%|██████████| 24/24 [00:00<00:00, 157.90it/s]\n"
     ]
    },
    {
     "name": "stdout",
     "output_type": "stream",
     "text": [
      "Epoch 24/50\n",
      "Train Loss: 0.0001, Train Accuracy: 0.9891\n",
      "Test Loss: 0.0060, Test Accuracy: 0.6429\n"
     ]
    },
    {
     "name": "stderr",
     "output_type": "stream",
     "text": [
      "Training: 100%|██████████| 411/411 [00:10<00:00, 39.54it/s]\n",
      "Evaluating: 100%|██████████| 24/24 [00:00<00:00, 157.90it/s]\n"
     ]
    },
    {
     "name": "stdout",
     "output_type": "stream",
     "text": [
      "Epoch 25/50\n",
      "Train Loss: 0.0001, Train Accuracy: 0.9902\n",
      "Test Loss: 0.0068, Test Accuracy: 0.6409\n"
     ]
    },
    {
     "name": "stderr",
     "output_type": "stream",
     "text": [
      "Training: 100%|██████████| 411/411 [00:09<00:00, 43.99it/s]\n",
      "Evaluating: 100%|██████████| 24/24 [00:00<00:00, 150.96it/s]\n"
     ]
    },
    {
     "name": "stdout",
     "output_type": "stream",
     "text": [
      "Epoch 26/50\n",
      "Train Loss: 0.0002, Train Accuracy: 0.9885\n",
      "Test Loss: 0.0079, Test Accuracy: 0.5936\n"
     ]
    },
    {
     "name": "stderr",
     "output_type": "stream",
     "text": [
      "Training: 100%|██████████| 411/411 [00:10<00:00, 38.37it/s]\n",
      "Evaluating: 100%|██████████| 24/24 [00:00<00:00, 141.20it/s]\n"
     ]
    },
    {
     "name": "stdout",
     "output_type": "stream",
     "text": [
      "Epoch 27/50\n",
      "Train Loss: 0.0001, Train Accuracy: 0.9907\n",
      "Test Loss: 0.0060, Test Accuracy: 0.6552\n"
     ]
    },
    {
     "name": "stderr",
     "output_type": "stream",
     "text": [
      "Training: 100%|██████████| 411/411 [00:11<00:00, 36.08it/s]\n",
      "Evaluating: 100%|██████████| 24/24 [00:00<00:00, 157.89it/s]\n"
     ]
    },
    {
     "name": "stdout",
     "output_type": "stream",
     "text": [
      "Epoch 28/50\n",
      "Train Loss: 0.0001, Train Accuracy: 0.9896\n",
      "Test Loss: 0.0084, Test Accuracy: 0.5560\n"
     ]
    },
    {
     "name": "stderr",
     "output_type": "stream",
     "text": [
      "Training: 100%|██████████| 411/411 [00:11<00:00, 36.92it/s]\n",
      "Evaluating: 100%|██████████| 24/24 [00:00<00:00, 147.24it/s]\n"
     ]
    },
    {
     "name": "stdout",
     "output_type": "stream",
     "text": [
      "Epoch 29/50\n",
      "Train Loss: 0.0001, Train Accuracy: 0.9908\n",
      "Test Loss: 0.0057, Test Accuracy: 0.6580\n"
     ]
    },
    {
     "name": "stderr",
     "output_type": "stream",
     "text": [
      "Training: 100%|██████████| 411/411 [00:09<00:00, 41.68it/s]\n",
      "Evaluating: 100%|██████████| 24/24 [00:00<00:00, 157.86it/s]\n"
     ]
    },
    {
     "name": "stdout",
     "output_type": "stream",
     "text": [
      "Epoch 30/50\n",
      "Train Loss: 0.0001, Train Accuracy: 0.9893\n",
      "Test Loss: 0.0076, Test Accuracy: 0.5979\n"
     ]
    },
    {
     "name": "stderr",
     "output_type": "stream",
     "text": [
      "Training: 100%|██████████| 411/411 [00:08<00:00, 47.50it/s]\n",
      "Evaluating: 100%|██████████| 24/24 [00:00<00:00, 157.72it/s]\n"
     ]
    },
    {
     "name": "stdout",
     "output_type": "stream",
     "text": [
      "Epoch 31/50\n",
      "Train Loss: 0.0001, Train Accuracy: 0.9896\n",
      "Test Loss: 0.0061, Test Accuracy: 0.6474\n"
     ]
    },
    {
     "name": "stderr",
     "output_type": "stream",
     "text": [
      "Training: 100%|██████████| 411/411 [00:09<00:00, 41.79it/s]\n",
      "Evaluating: 100%|██████████| 24/24 [00:00<00:00, 147.24it/s]\n"
     ]
    },
    {
     "name": "stdout",
     "output_type": "stream",
     "text": [
      "Epoch 32/50\n",
      "Train Loss: 0.0001, Train Accuracy: 0.9906\n",
      "Test Loss: 0.0053, Test Accuracy: 0.6762\n"
     ]
    },
    {
     "name": "stderr",
     "output_type": "stream",
     "text": [
      "Training: 100%|██████████| 411/411 [00:09<00:00, 45.56it/s]\n",
      "Evaluating: 100%|██████████| 24/24 [00:00<00:00, 157.94it/s]\n"
     ]
    },
    {
     "name": "stdout",
     "output_type": "stream",
     "text": [
      "Epoch 33/50\n",
      "Train Loss: 0.0001, Train Accuracy: 0.9908\n",
      "Test Loss: 0.0067, Test Accuracy: 0.6369\n"
     ]
    },
    {
     "name": "stderr",
     "output_type": "stream",
     "text": [
      "Training: 100%|██████████| 411/411 [00:08<00:00, 47.72it/s]\n",
      "Evaluating: 100%|██████████| 24/24 [00:00<00:00, 158.94it/s]\n"
     ]
    },
    {
     "name": "stdout",
     "output_type": "stream",
     "text": [
      "Epoch 34/50\n",
      "Train Loss: 0.0001, Train Accuracy: 0.9902\n",
      "Test Loss: 0.0061, Test Accuracy: 0.6600\n"
     ]
    },
    {
     "name": "stderr",
     "output_type": "stream",
     "text": [
      "Training: 100%|██████████| 411/411 [00:08<00:00, 47.76it/s]\n",
      "Evaluating: 100%|██████████| 24/24 [00:00<00:00, 156.90it/s]\n"
     ]
    },
    {
     "name": "stdout",
     "output_type": "stream",
     "text": [
      "Epoch 35/50\n",
      "Train Loss: 0.0001, Train Accuracy: 0.9903\n",
      "Test Loss: 0.0053, Test Accuracy: 0.6830\n"
     ]
    },
    {
     "name": "stderr",
     "output_type": "stream",
     "text": [
      "Training: 100%|██████████| 411/411 [00:08<00:00, 47.49it/s]\n",
      "Evaluating: 100%|██████████| 24/24 [00:00<00:00, 157.44it/s]\n"
     ]
    },
    {
     "name": "stdout",
     "output_type": "stream",
     "text": [
      "Epoch 36/50\n",
      "Train Loss: 0.0001, Train Accuracy: 0.9899\n",
      "Test Loss: 0.0090, Test Accuracy: 0.5660\n"
     ]
    },
    {
     "name": "stderr",
     "output_type": "stream",
     "text": [
      "Training: 100%|██████████| 411/411 [00:08<00:00, 46.20it/s]\n",
      "Evaluating: 100%|██████████| 24/24 [00:00<00:00, 157.89it/s]\n"
     ]
    },
    {
     "name": "stdout",
     "output_type": "stream",
     "text": [
      "Epoch 37/50\n",
      "Train Loss: 0.0001, Train Accuracy: 0.9908\n",
      "Test Loss: 0.0066, Test Accuracy: 0.6178\n"
     ]
    },
    {
     "name": "stderr",
     "output_type": "stream",
     "text": [
      "Training: 100%|██████████| 411/411 [00:08<00:00, 47.07it/s]\n",
      "Evaluating: 100%|██████████| 24/24 [00:00<00:00, 154.84it/s]\n"
     ]
    },
    {
     "name": "stdout",
     "output_type": "stream",
     "text": [
      "Epoch 38/50\n",
      "Train Loss: 0.0001, Train Accuracy: 0.9916\n",
      "Test Loss: 0.0053, Test Accuracy: 0.6822\n"
     ]
    },
    {
     "name": "stderr",
     "output_type": "stream",
     "text": [
      "Training: 100%|██████████| 411/411 [00:08<00:00, 47.60it/s]\n",
      "Evaluating: 100%|██████████| 24/24 [00:00<00:00, 160.00it/s]\n"
     ]
    },
    {
     "name": "stdout",
     "output_type": "stream",
     "text": [
      "Epoch 39/50\n",
      "Train Loss: 0.0001, Train Accuracy: 0.9903\n",
      "Test Loss: 0.0070, Test Accuracy: 0.5974\n"
     ]
    },
    {
     "name": "stderr",
     "output_type": "stream",
     "text": [
      "Training: 100%|██████████| 411/411 [00:08<00:00, 47.42it/s]\n",
      "Evaluating: 100%|██████████| 24/24 [00:00<00:00, 155.84it/s]\n"
     ]
    },
    {
     "name": "stdout",
     "output_type": "stream",
     "text": [
      "Epoch 40/50\n",
      "Train Loss: 0.0001, Train Accuracy: 0.9909\n",
      "Test Loss: 0.0072, Test Accuracy: 0.6107\n"
     ]
    },
    {
     "name": "stderr",
     "output_type": "stream",
     "text": [
      "Training: 100%|██████████| 411/411 [00:08<00:00, 47.75it/s]\n",
      "Evaluating: 100%|██████████| 24/24 [00:00<00:00, 150.90it/s]\n"
     ]
    },
    {
     "name": "stdout",
     "output_type": "stream",
     "text": [
      "Epoch 41/50\n",
      "Train Loss: 0.0001, Train Accuracy: 0.9902\n",
      "Test Loss: 0.0061, Test Accuracy: 0.6525\n"
     ]
    },
    {
     "name": "stderr",
     "output_type": "stream",
     "text": [
      "Training: 100%|██████████| 411/411 [00:08<00:00, 47.71it/s]\n",
      "Evaluating: 100%|██████████| 24/24 [00:00<00:00, 158.94it/s]\n"
     ]
    },
    {
     "name": "stdout",
     "output_type": "stream",
     "text": [
      "Epoch 42/50\n",
      "Train Loss: 0.0001, Train Accuracy: 0.9909\n",
      "Test Loss: 0.0063, Test Accuracy: 0.6454\n"
     ]
    },
    {
     "name": "stderr",
     "output_type": "stream",
     "text": [
      "Training: 100%|██████████| 411/411 [00:08<00:00, 47.84it/s]\n",
      "Evaluating: 100%|██████████| 24/24 [00:00<00:00, 158.33it/s]\n"
     ]
    },
    {
     "name": "stdout",
     "output_type": "stream",
     "text": [
      "Epoch 43/50\n",
      "Train Loss: 0.0001, Train Accuracy: 0.9912\n",
      "Test Loss: 0.0056, Test Accuracy: 0.6696\n"
     ]
    },
    {
     "name": "stderr",
     "output_type": "stream",
     "text": [
      "Training: 100%|██████████| 411/411 [00:10<00:00, 38.90it/s]\n",
      "Evaluating: 100%|██████████| 24/24 [00:00<00:00, 146.34it/s]\n"
     ]
    },
    {
     "name": "stdout",
     "output_type": "stream",
     "text": [
      "Epoch 44/50\n",
      "Train Loss: 0.0001, Train Accuracy: 0.9910\n",
      "Test Loss: 0.0063, Test Accuracy: 0.6553\n"
     ]
    },
    {
     "name": "stderr",
     "output_type": "stream",
     "text": [
      "Training: 100%|██████████| 411/411 [00:11<00:00, 35.43it/s]\n",
      "Evaluating: 100%|██████████| 24/24 [00:00<00:00, 134.08it/s]\n"
     ]
    },
    {
     "name": "stdout",
     "output_type": "stream",
     "text": [
      "Epoch 45/50\n",
      "Train Loss: 0.0001, Train Accuracy: 0.9910\n",
      "Test Loss: 0.0067, Test Accuracy: 0.6273\n"
     ]
    },
    {
     "name": "stderr",
     "output_type": "stream",
     "text": [
      "Training: 100%|██████████| 411/411 [00:11<00:00, 35.84it/s]\n",
      "Evaluating: 100%|██████████| 24/24 [00:00<00:00, 150.00it/s]\n"
     ]
    },
    {
     "name": "stdout",
     "output_type": "stream",
     "text": [
      "Epoch 46/50\n",
      "Train Loss: 0.0001, Train Accuracy: 0.9914\n",
      "Test Loss: 0.0079, Test Accuracy: 0.5879\n"
     ]
    },
    {
     "name": "stderr",
     "output_type": "stream",
     "text": [
      "Training: 100%|██████████| 411/411 [00:11<00:00, 35.65it/s]\n",
      "Evaluating: 100%|██████████| 24/24 [00:00<00:00, 162.16it/s]\n"
     ]
    },
    {
     "name": "stdout",
     "output_type": "stream",
     "text": [
      "Epoch 47/50\n",
      "Train Loss: 0.0001, Train Accuracy: 0.9916\n",
      "Test Loss: 0.0074, Test Accuracy: 0.6092\n"
     ]
    },
    {
     "name": "stderr",
     "output_type": "stream",
     "text": [
      "Training: 100%|██████████| 411/411 [00:11<00:00, 35.33it/s]\n",
      "Evaluating: 100%|██████████| 24/24 [00:00<00:00, 127.66it/s]\n"
     ]
    },
    {
     "name": "stdout",
     "output_type": "stream",
     "text": [
      "Epoch 48/50\n",
      "Train Loss: 0.0001, Train Accuracy: 0.9921\n",
      "Test Loss: 0.0054, Test Accuracy: 0.6757\n"
     ]
    },
    {
     "name": "stderr",
     "output_type": "stream",
     "text": [
      "Training: 100%|██████████| 411/411 [00:09<00:00, 42.59it/s]\n",
      "Evaluating: 100%|██████████| 24/24 [00:00<00:00, 157.90it/s]\n"
     ]
    },
    {
     "name": "stdout",
     "output_type": "stream",
     "text": [
      "Epoch 49/50\n",
      "Train Loss: 0.0001, Train Accuracy: 0.9906\n",
      "Test Loss: 0.0082, Test Accuracy: 0.5889\n"
     ]
    },
    {
     "name": "stderr",
     "output_type": "stream",
     "text": [
      "Training: 100%|██████████| 411/411 [00:08<00:00, 47.84it/s]\n",
      "Evaluating: 100%|██████████| 24/24 [00:00<00:00, 158.94it/s]"
     ]
    },
    {
     "name": "stdout",
     "output_type": "stream",
     "text": [
      "Epoch 50/50\n",
      "Train Loss: 0.0001, Train Accuracy: 0.9912\n",
      "Test Loss: 0.0057, Test Accuracy: 0.6661\n"
     ]
    },
    {
     "name": "stderr",
     "output_type": "stream",
     "text": [
      "\n"
     ]
    }
   ],
   "source": [
    "device = torch.device(\"cuda\" if torch.cuda.is_available() else \"cpu\")\n",
    "# Instantiate the model and move it to the appropriate device\n",
    "models = [cnn(num_classes=9, dropout_rate=0).to(device),\n",
    "          CustomResNet18(num_classes=9, dropout_rate=0).to(device),\n",
    "          CustomResNet50(num_classes=9, dropout_rate=0).to(device),\n",
    "          CustomResNet152(num_classes=9, dropout_rate=0).to(device),\n",
    "          CustomResNet101(num_classes=9, dropout_rate=0).to(device),\n",
    "          OptResDCNN(num_classes=9, dropout_rate=0).to(device),\n",
    "          CustomDenseNet121(num_classes=9, dropout_rate=0).to(device),\n",
    "          CustomMobileNet(num_classes=9, dropout_rate=0).to(device)]\n",
    "\n",
    "#models = [CustomMobileNet(num_classes=9, dropout_rate=0).to(device)]\n",
    "\n",
    "for model in models:\n",
    "    model_name = type(model).__name__\n",
    "    print(model_name)\n",
    "\n",
    "    # Create an optimizer\n",
    "    optimizer = optim.Adam(model.parameters(), lr=0.001, weight_decay=0.001)\n",
    "\n",
    "    # Train and evaluate the model\n",
    "    time_per_epoch = []\n",
    "    loss_values = [[],[]]\n",
    "    acc = [[],[]]\n",
    "    num_epochs = 50\n",
    "    test = 0.4\n",
    "    for epoch in range(num_epochs):\n",
    "        start_time = time.time()\n",
    "        train_loss, train_accuracy = train(model, train_dataloader, optimizer, device)\n",
    "        test_loss, test_accuracy = evaluate(model, test_dataloader, device)\n",
    "        end_time = time.time()\n",
    "\n",
    "        loss_values[0].append(train_loss)\n",
    "        acc[0].append(train_accuracy)\n",
    "        loss_values[1].append(test_loss)\n",
    "        acc[1].append(test_accuracy)\n",
    "        epoch_time = end_time - start_time\n",
    "        time_per_epoch.append(epoch_time)\n",
    "\n",
    "        print(f\"Epoch {epoch+1}/{num_epochs}\")\n",
    "        print(f\"Train Loss: {train_loss:.4f}, Train Accuracy: {train_accuracy:.4f}\")\n",
    "        print(f\"Test Loss: {test_loss:.4f}, Test Accuracy: {test_accuracy:.4f}\")\n",
    "\n",
    "\n",
    "    with open('results/'+model_name+'.pkl', 'wb') as file:\n",
    "        pickle.dump({\"time_per_epoch\": time_per_epoch, \"loss_values\": loss_values, \"accuracy\": acc}, file)"
   ],
   "metadata": {
    "collapsed": false,
    "ExecuteTime": {
     "start_time": "2023-06-21T14:36:06.363075Z",
     "end_time": "2023-06-21T14:44:28.016298Z"
    }
   }
  },
  {
   "cell_type": "code",
   "execution_count": null,
   "outputs": [],
   "source": [],
   "metadata": {
    "collapsed": false,
    "ExecuteTime": {
     "start_time": "2023-04-26T20:40:17.049312Z",
     "end_time": "2023-04-26T20:40:17.079311Z"
    }
   }
  }
 ],
 "metadata": {
  "kernelspec": {
   "display_name": "Python 3",
   "language": "python",
   "name": "python3"
  },
  "language_info": {
   "codemirror_mode": {
    "name": "ipython",
    "version": 2
   },
   "file_extension": ".py",
   "mimetype": "text/x-python",
   "name": "python",
   "nbconvert_exporter": "python",
   "pygments_lexer": "ipython2",
   "version": "2.7.6"
  }
 },
 "nbformat": 4,
 "nbformat_minor": 0
}
